{
 "cells": [
  {
   "cell_type": "code",
   "execution_count": 1,
   "id": "4db643ef-12c8-4d3a-a6c4-df68ed1ce1b9",
   "metadata": {},
   "outputs": [
    {
     "name": "stdout",
     "output_type": "stream",
     "text": [
      "Requirement already satisfied: orjson in /opt/conda/lib/python3.11/site-packages (3.9.10)\n"
     ]
    }
   ],
   "source": [
    "! pip install orjson"
   ]
  },
  {
   "cell_type": "code",
   "execution_count": 2,
   "id": "9419cdee-5a6a-4c31-9107-09207c1d7f47",
   "metadata": {},
   "outputs": [
    {
     "name": "stdout",
     "output_type": "stream",
     "text": [
      "Start data preparation\n",
      "End data preparation\n",
      "The file has been saved correctly\n"
     ]
    }
   ],
   "source": [
    "! cd s1_pre_processing/ && python data_preparation.py \"services.json\" \"SN_demo0711.csv\" \"wikidata\" && cd .."
   ]
  },
  {
   "cell_type": "code",
   "execution_count": 3,
   "id": "7261ed9e-ad92-4309-ac0c-c71151a6a808",
   "metadata": {},
   "outputs": [
    {
     "name": "stdout",
     "output_type": "stream",
     "text": [
      "Start lookup\n",
      "End lookup\n",
      "End writing\n"
     ]
    }
   ],
   "source": [
    "! cd s2_lookup && python lookup.py \"/tmp/output.json\" && cd .."
   ]
  },
  {
   "cell_type": "code",
   "execution_count": 4,
   "id": "ef97f85b-e16e-4eb5-9d20-c77225e8e3e1",
   "metadata": {},
   "outputs": [
    {
     "name": "stdout",
     "output_type": "stream",
     "text": [
      "Start features extraction\n",
      "Finish features extraction\n",
      "Finish writing\n"
     ]
    }
   ],
   "source": [
    "! cd s3_features_extraction && python features_extraction.py \"/tmp/output.json\" && cd .."
   ]
  },
  {
   "cell_type": "code",
   "execution_count": 5,
   "id": "c588de74-f59a-4a33-ac89-a7fa1116288d",
   "metadata": {},
   "outputs": [
    {
     "name": "stdout",
     "output_type": "stream",
     "text": [
      "2023-11-08 00:39:26.895030: I tensorflow/core/util/port.cc:110] oneDNN custom operations are on. You may see slightly different numerical results due to floating-point round-off errors from different computation orders. To turn them off, set the environment variable `TF_ENABLE_ONEDNN_OPTS=0`.\n",
      "2023-11-08 00:39:26.896598: I tensorflow/tsl/cuda/cudart_stub.cc:28] Could not find cuda drivers on your machine, GPU will not be used.\n",
      "2023-11-08 00:39:26.931726: I tensorflow/tsl/cuda/cudart_stub.cc:28] Could not find cuda drivers on your machine, GPU will not be used.\n",
      "2023-11-08 00:39:26.932158: I tensorflow/core/platform/cpu_feature_guard.cc:182] This TensorFlow binary is optimized to use available CPU instructions in performance-critical operations.\n",
      "To enable the following instructions: AVX2 AVX_VNNI FMA, in other operations, rebuild TensorFlow with the appropriate compiler flags.\n",
      "2023-11-08 00:39:27.492630: W tensorflow/compiler/tf2tensorrt/utils/py_utils.cc:38] TF-TRT Warning: Could not find TensorRT\n",
      "Start prediction\n",
      "1/1 [==============================] - 0s 121ms/step\n",
      "1/1 [==============================] - 0s 31ms/step\n",
      "1/1 [==============================] - 0s 35ms/step\n",
      "1/1 [==============================] - 0s 33ms/step\n",
      "1/1 [==============================] - 0s 32ms/step\n",
      "End prediction\n",
      "End writing\n"
     ]
    }
   ],
   "source": [
    "! cd s4_prediction && python prediction.py \"/tmp/output.json\" \"rho\" && cd .."
   ]
  },
  {
   "cell_type": "code",
   "execution_count": 6,
   "id": "6082e3f4-cc27-4378-8bd6-5315ca5a41ea",
   "metadata": {},
   "outputs": [
    {
     "name": "stdout",
     "output_type": "stream",
     "text": [
      "Start features extraction revision\n",
      "End features extraction revision\n",
      "End writing\n"
     ]
    }
   ],
   "source": [
    "! cd s5_features_extraction_revision/ && python features_extraction_revision.py \"/tmp/output.json\" && cd .."
   ]
  },
  {
   "cell_type": "code",
   "execution_count": 7,
   "id": "920a2a66-8d83-4d19-991b-87ca9720278c",
   "metadata": {},
   "outputs": [
    {
     "name": "stdout",
     "output_type": "stream",
     "text": [
      "2023-11-08 00:39:33.023400: I tensorflow/core/util/port.cc:110] oneDNN custom operations are on. You may see slightly different numerical results due to floating-point round-off errors from different computation orders. To turn them off, set the environment variable `TF_ENABLE_ONEDNN_OPTS=0`.\n",
      "2023-11-08 00:39:33.025167: I tensorflow/tsl/cuda/cudart_stub.cc:28] Could not find cuda drivers on your machine, GPU will not be used.\n",
      "2023-11-08 00:39:33.058386: I tensorflow/tsl/cuda/cudart_stub.cc:28] Could not find cuda drivers on your machine, GPU will not be used.\n",
      "2023-11-08 00:39:33.058835: I tensorflow/core/platform/cpu_feature_guard.cc:182] This TensorFlow binary is optimized to use available CPU instructions in performance-critical operations.\n",
      "To enable the following instructions: AVX2 AVX_VNNI FMA, in other operations, rebuild TensorFlow with the appropriate compiler flags.\n",
      "2023-11-08 00:39:33.806075: W tensorflow/compiler/tf2tensorrt/utils/py_utils.cc:38] TF-TRT Warning: Could not find TensorRT\n",
      "Start prediction\n",
      "1/1 [==============================] - 0s 173ms/step\n",
      "1/1 [==============================] - 0s 40ms/step\n",
      "1/1 [==============================] - 0s 38ms/step\n",
      "1/1 [==============================] - 0s 47ms/step\n",
      "1/1 [==============================] - 0s 40ms/step\n",
      "End prediction\n",
      "End writing\n"
     ]
    }
   ],
   "source": [
    "! cd s4_prediction && python prediction.py \"/tmp/output.json\" \"rho2\" && cd .."
   ]
  },
  {
   "cell_type": "code",
   "execution_count": 8,
   "id": "0d5ea1b0-b0d9-48c3-804a-c5601209f493",
   "metadata": {},
   "outputs": [
    {
     "name": "stdout",
     "output_type": "stream",
     "text": [
      "Start decision\n",
      "End decision\n",
      "End writing\n"
     ]
    }
   ],
   "source": [
    "! cd s6_decision/ && python decision.py \"/tmp/output.json\" && cd .."
   ]
  },
  {
   "cell_type": "code",
   "execution_count": 9,
   "id": "13cc72ba-b737-40e8-a315-c4d53a7eee7e",
   "metadata": {},
   "outputs": [
    {
     "name": "stdout",
     "output_type": "stream",
     "text": [
      "Start classifier\n",
      "[None, None, None, None, None, None, None, None, None, None, None, None, None, None, None, None, None, None, None, None, None, None, None, None, None, None, None, None, None, None, None, None, None, None, None, None, None, None, None, None, None, None, None, None, None, None, None, None, None, None, None, None, None, None, None, None, None, None, None, None, None, None, None, None, None, None, None, None, None, None, None, None, None, None, None, None, None, None, None, None, None, None, None, None, None, None, None, None, None, None, None, None, None, None, None, None, None, None, None, None, None, None, None, None, None, None, None, None, None, None, None, None, None, None, None, None, None, None, None, None, None, None, None, None, None, None, None, None, None, None, None, None, None, None, None, None, None, None, None, None, None, None, None, None, None, None, None, None, None, None, None, None, None, None, None, None, None, None, None, None, None, None, None, None, None, None, None, None, None, None, None, None, None, None, None, None, None, None, None, None, None, None, None, None, None, None, None, None, None, None, None, None, None, None, None, None, None, None, None, None, None, None, None, None, None, None, None, None]\n",
      "End classifier\n",
      "End writing\n"
     ]
    }
   ],
   "source": [
    "! cd s7_expert_ai_analyzer/ && python analyzer.py \"/tmp/output.json\" && cd .."
   ]
  },
  {
   "cell_type": "code",
   "execution_count": 13,
   "id": "0f4069d2-3081-4157-9e69-92c243be1c5e",
   "metadata": {},
   "outputs": [
    {
     "name": "stdout",
     "output_type": "stream",
     "text": [
      "Start classifier\n",
      "[None, None, None, None, None, None, None, None, None, None, None, None, None, None, None, None, None, None, None, None, None, None, None, None, None, None, None, None, None, None, None, None, None, None, None, None, None, None, None, None, None, None, None, None, None, None, None, None, None, None, None, None, None, None, None, None, None, None, None, None, None, None, None, None, None, None, None, None, None, None, None, None, None, None, None, None, None, None, None, None, None, None, None, None, None, None, None, None, None, None, None, None, None, None, None, None, None, None, None, None, None, None, None, None, None, None, None, None, None, None, None, None, None, None, None, None, None, None, None, None, None, None, None, None, None, None, None, None, None, None, None, None, None, None, None, None, None, None, None, None, None, None, None, None, None, None, None, None, None, None, None, None, None, None, None, None, None, None, None, None, None, None, None, None, None, None, None, None, None, None, None, None, None, None, None, None, None, None, None, None, None, None, None, None, None, None, None, None, None, None, None, None, None, None, None, None, None, None, None, None, None, None, None, None, None, None, None, None]\n",
      "End classifier\n",
      "['buyer', 'wd:ID', 'wd:Name', 'wd:Description', 'standard_taxonomy', 'iptc', 'tender_title', 'tender_description', 'tender_category', 'standard_taxonomy', 'iptc', 'postal_town', 'admin_level_2', 'admin_level_1', 'country']\n",
      "[['derbyshire county council', 'Q5261561', 'Derbyshire County Council', 'local authority for the English county of Derbyshire', [], [], 'cst109 aids to rehabilitation (for occupational health)', 'derbyshire county council is out to tender for aids to rehabilitation following occupational health assessments. these aids are aimed at staff members requiring adjustments to their workstation(s) - ie. bespoke chairs, desks, additional support cushions, and other desktop items. the council requires a fully delivered service with installation and set-up options.', 'miscellaneous medical devices and products', ['job market 6.09', 'medicine 2.5', 'computer science 1.7', 'trade 1.1', 'politics 0.8', 'the economy 0.6', 'institutions 0.5', 'furniture 0.4', 'gymnastics 0.3', 'public administration 0.3', 'operating systems 0.1', 'mechanics 0.1', 'motor vehicles 0.1'], ['Industrial accident and incident', 'Therapy'], 'matlock', 'derbyshire', 'england', 'united kingdom'], ['derbyshire county council', 'Q5261561', 'Derbyshire County Council', 'local authority for the English county of Derbyshire', [], [], 'place306 supply of autodesk licences', 'supply of autodesk licences itt documentation is accessible via www.eastmidstenders.org and placing a expression of interest.', 'drawing and imaging software package', ['trade 2.5', 'software 0.69', 'computer graphics 0.69', 'linguistics 0.5', 'law 0.4', 'illustration 0.3'], ['Drawing'], 'matlock', 'derbyshire', 'england', 'united kingdom'], ['derbyshire county council', 'Q5261561', 'Derbyshire County Council', 'local authority for the English county of Derbyshire', [], [], '1076017b proposed side and rear extension to a property located in chesterfield, derbyshire', 'proposed side and rear extension to a property located in chesterfield, derbyshire', 'building construction work', ['clothing 7.4', 'construction industry 1.5', 'architecture 0.1', 'job market 0.1'], [], 'matlock', 'derbyshire', 'england', 'united kingdom']]\n",
      "['derbyshire county council', 'Q5261561', 'Derbyshire County Council', 'local authority for the English county of Derbyshire', [], [], 'cst109 aids to rehabilitation (for occupational health)', 'derbyshire county council is out to tender for aids to rehabilitation following occupational health assessments. these aids are aimed at staff members requiring adjustments to their workstation(s) - ie. bespoke chairs, desks, additional support cushions, and other desktop items. the council requires a fully delivered service with installation and set-up options.', 'miscellaneous medical devices and products', ['job market 6.09', 'medicine 2.5', 'computer science 1.7', 'trade 1.1', 'politics 0.8', 'the economy 0.6', 'institutions 0.5', 'furniture 0.4', 'gymnastics 0.3', 'public administration 0.3', 'operating systems 0.1', 'mechanics 0.1', 'motor vehicles 0.1'], ['Industrial accident and incident', 'Therapy'], 'matlock', 'derbyshire', 'england', 'united kingdom']\n",
      "End writing\n"
     ]
    }
   ],
   "source": [
    "! cd s8_expert_ai_classifier/ && python classifier.py \"/tmp/output.json\" && cd .."
   ]
  },
  {
   "cell_type": "code",
   "execution_count": 11,
   "id": "bbb6d4f5-7061-4bb0-a3d8-d0b8d6981693",
   "metadata": {},
   "outputs": [],
   "source": [
    "!cp /tmp/output.json ."
   ]
  },
  {
   "cell_type": "code",
   "execution_count": 14,
   "id": "cbc6afa2-5547-423b-b7dd-93df4c833295",
   "metadata": {},
   "outputs": [],
   "source": [
    "!cp /tmp/output.csv ."
   ]
  }
 ],
 "metadata": {
  "kernelspec": {
   "display_name": "Python 3 (ipykernel)",
   "language": "python",
   "name": "python3"
  },
  "language_info": {
   "codemirror_mode": {
    "name": "ipython",
    "version": 3
   },
   "file_extension": ".py",
   "mimetype": "text/x-python",
   "name": "python",
   "nbconvert_exporter": "python",
   "pygments_lexer": "ipython3",
   "version": "3.11.5"
  }
 },
 "nbformat": 4,
 "nbformat_minor": 5
}
