{
 "cells": [
  {
   "cell_type": "code",
   "execution_count": 30,
   "id": "490f36a3-0d42-4186-8551-525ec0c6a6ed",
   "metadata": {
    "tags": []
   },
   "outputs": [],
   "source": [
    "import requests\n",
    "import urllib3\n",
    "urllib3.disable_warnings(urllib3.exceptions.InsecureRequestWarning)\n",
    "\n",
    "url = \"https://deployenv6.expertcustomers.ai:8084/services/emd/classify\"\n",
    "#url = \"https://deployenv6.expertcustomers.ai:8084/services/emd/analyze\"\n",
    "headers = {\n",
    "    \"Content-Type\": \"text/plain\",\n",
    "}\n",
    "\n",
    "\n",
    "def get_categories(data):\n",
    "    response = requests.post(url, headers=headers, data=data, verify=False)\n",
    "    result = {\"iptc_categories\": [], \"geo_categories\": []}\n",
    "    if response.status_code == 200:\n",
    "        print(\"Request was successful\")\n",
    "        print(\"Response JSON:\")\n",
    "        print(response.json())\n",
    "        result = response.json()\n",
    "        #result = {\"iptc_categories\":result[\"iptc_categories\"], \"geo_categories\":result[\"geo_categories\"]}\n",
    "    else:\n",
    "        print(f\"Failed to retrieve data. HTTP Status code: {response.status_code}\")\n",
    "    return result"
   ]
  },
  {
   "cell_type": "code",
   "execution_count": 28,
   "id": "73401921-1651-4690-a4a9-679b9769be74",
   "metadata": {},
   "outputs": [
    {
     "data": {
      "text/plain": [
       "DoneAndNotDoneFutures(done={<Future at 0x7f47c428ee10 state=finished returned Response>, <Future at 0x7f47ab7ce050 state=finished returned Response>, <Future at 0x7f47abc11890 state=finished returned Response>, <Future at 0x7f47abd62c90 state=finished returned Response>, <Future at 0x7f47c4ad4ad0 state=finished returned Response>, <Future at 0x7f47ab7bc6d0 state=finished returned Response>, <Future at 0x7f47ab7cfd10 state=finished returned Response>, <Future at 0x7f47c4228150 state=finished returned Response>, <Future at 0x7f47c478e790 state=finished returned Response>, <Future at 0x7f47ab7cd9d0 state=finished returned Response>}, not_done=set())"
      ]
     },
     "execution_count": 28,
     "metadata": {},
     "output_type": "execute_result"
    }
   ],
   "source": [
    "import requests\n",
    "import concurrent.futures\n",
    "\n",
    "data = \"\"\"\n",
    "contraception and sexual health service for young people. additional information: the council is using the e-business portal known as the chest. applicants will need to register their details at the following link www.the-chest.org.uk. applicants will need to electronically submit their completed tender documents via the online portal by 11 a.m. on 30th october 2023.\n",
    "\"\"\"\n",
    "\n",
    "\n",
    "# Function to send a single request to the endpoint\n",
    "def send_request():\n",
    "    response = requests.get('https://deployenv6.expertcustomers.ai:8084/services/emd/classify',  headers=headers, data=data, verify=False)\n",
    "    return response\n",
    "    # Add logic to check the response or capture performance metrics\n",
    "\n",
    "# Number of concurrent requests to send\n",
    "num_requests = 10\n",
    "\n",
    "# Use concurrent.futures to send requests concurrently\n",
    "with concurrent.futures.ThreadPoolExecutor(max_workers=num_requests) as executor:\n",
    "    futures = [executor.submit(send_request) for _ in range(num_requests)]\n",
    "\n",
    "# Wait for all requests to complete\n",
    "concurrent.futures.wait(futures)"
   ]
  },
  {
   "cell_type": "code",
   "execution_count": 27,
   "id": "9650b20c-1650-481b-8937-71166b898f73",
   "metadata": {},
   "outputs": [
    {
     "name": "stdout",
     "output_type": "stream",
     "text": [
      "Total time for synchronous requests: 55.94864583015442 seconds\n"
     ]
    }
   ],
   "source": [
    "import requests\n",
    "import time\n",
    "import urllib3\n",
    "urllib3.disable_warnings(urllib3.exceptions.InsecureRequestWarning)\n",
    "\n",
    "data = \"\"\"\n",
    "The Council wish to drive regeneration across Wythenshawe Civic by creating a vibrant and high-quality neighbourhood. \n",
    "The Council are seeking to appoint a partner to realise this vision by aiding in the design, \n",
    "delivery and funding of at least 1,600 residential dwellings across Wythenshawe Civic as well as revitalising the Civic Shopping Centre. \n",
    "This is a significant opportunity to invest in a large, well-connected area of South Manchester.\n",
    "\"\"\"\n",
    "\n",
    "import requests\n",
    "import time\n",
    "\n",
    "# Function to send a single request to the endpoint synchronously\n",
    "def send_request():\n",
    "    response = requests.post('https://deployenv6.expertcustomers.ai:8084/services/emd/classify',  headers=headers, data=data, verify=False)\n",
    "    # Add logic to check the response or capture other metrics\n",
    "\n",
    "# Number of concurrent requests to send\n",
    "num_requests = 312\n",
    "\n",
    "# Measure the total time for synchronous requests\n",
    "start_time_sync = time.time()\n",
    "\n",
    "# Send requests sequentially\n",
    "for _ in range(num_requests):\n",
    "    send_request()\n",
    "\n",
    "end_time_sync = time.time()\n",
    "total_time_sync = end_time_sync - start_time_sync\n",
    "\n",
    "print(f\"Total time for synchronous requests: {total_time_sync} seconds\")"
   ]
  },
  {
   "cell_type": "code",
   "execution_count": 2,
   "id": "8fbbe967-6b98-4946-8279-7fe3078588e3",
   "metadata": {},
   "outputs": [],
   "source": [
    "url = 'https://deployenv6.expertcustomers.ai:8084/services/emd/classify'"
   ]
  },
  {
   "cell_type": "code",
   "execution_count": 26,
   "id": "db9092ce-36a6-4ce5-8b12-af958d2e8670",
   "metadata": {},
   "outputs": [
    {
     "name": "stdout",
     "output_type": "stream",
     "text": [
      "Total time for asynchronous requests: 8.834014177322388 seconds\n"
     ]
    }
   ],
   "source": [
    "import aiohttp\n",
    "import asyncio\n",
    "import time\n",
    "\n",
    "data = \"\"\"\n",
    "The Council wish to drive regeneration across Wythenshawe Civic by creating a vibrant and high-quality neighbourhood. \n",
    "The Council are seeking to appoint a partner to realise this vision by aiding in the design, \n",
    "delivery and funding of at least 1,600 residential dwellings across Wythenshawe Civic as well as revitalising the Civic Shopping Centre. \n",
    "This is a significant opportunity to invest in a large, well-connected area of South Manchester.\n",
    "\"\"\"\n",
    "\n",
    "# Your data string and headers remain the same\n",
    "\n",
    "# Function to send a single request asynchronously and handle JSON response\n",
    "async def send_request(session, url, headers, data):\n",
    "    async with session.post(url, headers=headers, data=data, ssl=False) as response:\n",
    "        response_json = await response.json()  # Convert the response to JSON\n",
    "        # Process the JSON data as needed\n",
    "        #print(response_json)\n",
    "        return response_json\n",
    "\n",
    "# Function to run all requests concurrently\n",
    "async def run_all_requests(num_requests, url, headers, data):\n",
    "    async with aiohttp.ClientSession() as session:\n",
    "        tasks = [send_request(session, url, headers, data) for _ in range(num_requests)]\n",
    "        responses = await asyncio.gather(*tasks, return_exceptions=True)\n",
    "        # Process the list of responses if needed\n",
    "        return responses\n",
    "\n",
    "# Number of concurrent requests to send\n",
    "num_requests = 312\n",
    "url_endpoint = url  # Replace with the actual URL\n",
    "headers = {\"Content-Type\": \"text/plain\"}\n",
    "# Start time measurement\n",
    "start_time_async = time.time()\n",
    "\n",
    "# Use await directly to run the async function and get the responses\n",
    "responses = await run_all_requests(num_requests, url_endpoint, headers, data)\n",
    "\n",
    "# End time measurement\n",
    "end_time_async = time.time()\n",
    "total_time_async = end_time_async - start_time_async\n",
    "\n",
    "print(f\"Total time for asynchronous requests: {total_time_async} seconds\")\n",
    "\n",
    "# Now you can use `responses` which is a list of all the responses"
   ]
  },
  {
   "cell_type": "code",
   "execution_count": 20,
   "id": "4df5e704-ec44-4558-b4fb-ea039362c082",
   "metadata": {},
   "outputs": [
    {
     "data": {
      "text/plain": [
       "{'input_text': '\\nThe Council wish to drive regeneration across Wythenshawe Civic by creating a vibrant and high-quality neighbourhood. \\nThe Council are seeking to appoint a partner to realise this vision by aiding in the design, \\ndelivery and funding of at least 1,600 residential dwellings across Wythenshawe Civic as well as revitalising the Civic Shopping Centre. \\nThis is a significant opportunity to invest in a large, well-connected area of South Manchester.\\n',\n",
       " 'language': 'en',\n",
       " 'iptc_categories': [],\n",
       " 'geo_categories': []}"
      ]
     },
     "execution_count": 20,
     "metadata": {},
     "output_type": "execute_result"
    }
   ],
   "source": [
    "responses[0]"
   ]
  },
  {
   "cell_type": "code",
   "execution_count": null,
   "id": "47fe1098-4099-4643-b3a5-58fd548dbd29",
   "metadata": {},
   "outputs": [],
   "source": [
    "import aiohttp\n",
    "import asyncio\n",
    "import time\n",
    "import json\n",
    "\n",
    "# Assume `data` is a valid JSON string, ensure it's properly formatted JSON.\n",
    "# If your data is a string and not a JSON object, you can skip the json.loads() part\n",
    "data_payload = \"\"\"\n",
    "The Council wish to drive regeneration across Wythenshawe Civic by creating a vibrant and high-quality neighbourhood. \n",
    "The Council are seeking to appoint a partner to realise this vision by aiding in the design, \n",
    "delivery and funding of at least 1,600 residential dwellings across Wythenshawe Civic as well as revitalising the Civic Shopping Centre. \n",
    "This is a significant opportunity to invest in a large, well-connected area of South Manchester.\n",
    "\"\"\"\n",
    "\n",
    "headers = {\n",
    "    \"Content-Type\": \"text/plain\",\n",
    "}\n",
    "\n",
    "async def send_request(session, url, headers, data):\n",
    "    try:\n",
    "        async with session.post(url, headers=headers, json=data, ssl=False) as response:\n",
    "            # Ensure that you only try to .json() if the response can be JSON-decoded.\n",
    "            if response.headers[\"Content-Type\"] == \"application/json\":\n",
    "                response_json = await response.json()  # Convert the response to JSON\n",
    "                print(response_json)\n",
    "                return response_json\n",
    "            else:\n",
    "                response_text = await response.text()\n",
    "                print(response_text)\n",
    "                return response_text\n",
    "    except Exception as e:\n",
    "        print(f\"An error occurred: {e}\")\n",
    "        return None\n",
    "\n",
    "async def run_all_requests(num_requests, url, headers, data):\n",
    "    async with aiohttp.ClientSession() as session:\n",
    "        tasks = [send_request(session, url, headers, data) for _ in range(num_requests)]\n",
    "        responses = await asyncio.gather(*tasks, return_exceptions=True)\n",
    "        return responses\n",
    "\n",
    "# Replace with the actual URL.\n",
    "url_endpoint = url\n",
    "\n",
    "# Start time measurement\n",
    "start_time_async = time.time()\n",
    "\n",
    "responses = await run_all_requests(num_requests, url_endpoint, headers, data_payload)\n",
    "\n",
    "# End time measurement\n",
    "end_time_async = time.time()\n",
    "total_time_async = end_time_async - start_time_async\n",
    "\n",
    "print(f\"Total time for asynchronous requests: {total_time_async} seconds\")\n",
    "\n",
    "# Processing the responses\n",
    "for response in responses:\n",
    "    if isinstance(response, Exception):\n",
    "        print(f\"Request resulted in an error: {response}\")\n",
    "    else:\n",
    "        print(f\"Request succeeded: {response}\")\n"
   ]
  },
  {
   "cell_type": "code",
   "execution_count": 47,
   "id": "4303125a-598f-4de2-a7c8-52b40c3ded9f",
   "metadata": {},
   "outputs": [
    {
     "name": "stdout",
     "output_type": "stream",
     "text": [
      "Total time for asynchronous requests: 2.9566147327423096 seconds\n"
     ]
    }
   ],
   "source": [
    "import asyncio\n",
    "import httpx\n",
    "import time\n",
    "\n",
    "async def send_request():\n",
    "    async with httpx.AsyncClient(verify=False) as client:\n",
    "        response = await client.post('https://deployenv6.expertcustomers.ai:8084/services/emd/classify',  headers=headers, data=data)\n",
    "        #print(response.json())\n",
    "    # Add logic to check the response or capture other metrics\n",
    "\n",
    "# Number of concurrent requests to send\n",
    "num_requests = 50\n",
    "\n",
    "# Measure the total time for asynchronous requests\n",
    "start_time_async = time.time()\n",
    "\n",
    "\n",
    "tasks = [send_request() for _ in range(num_requests)]\n",
    "await asyncio.gather(*tasks)\n",
    "\n",
    "\n",
    "end_time_async = time.time()\n",
    "total_time_async = end_time_async - start_time_async\n",
    "\n",
    "print(f\"Total time for asynchronous requests: {total_time_async} seconds\")"
   ]
  },
  {
   "cell_type": "code",
   "execution_count": 31,
   "id": "da071a52-e832-474f-89d2-e5b308496c4e",
   "metadata": {
    "tags": []
   },
   "outputs": [
    {
     "name": "stdout",
     "output_type": "stream",
     "text": [
      "Request was successful\n",
      "Response JSON:\n",
      "{'input_text': '\\ncontraception and sexual health service for young people. additional information: the council is using the e-business portal known as the chest. applicants will need to register their details at the following link www.the-chest.org.uk. applicants will need to electronically submit their completed tender documents via the online portal by 11 a.m. on 30th october 2023.\\n', 'language': 'en', 'iptc_categories': ['Data protection policy', 'Family planning'], 'geo_categories': []}\n"
     ]
    },
    {
     "data": {
      "text/plain": [
       "{'input_text': '\\ncontraception and sexual health service for young people. additional information: the council is using the e-business portal known as the chest. applicants will need to register their details at the following link www.the-chest.org.uk. applicants will need to electronically submit their completed tender documents via the online portal by 11 a.m. on 30th october 2023.\\n',\n",
       " 'language': 'en',\n",
       " 'iptc_categories': ['Data protection policy', 'Family planning'],\n",
       " 'geo_categories': []}"
      ]
     },
     "execution_count": 31,
     "metadata": {},
     "output_type": "execute_result"
    }
   ],
   "source": [
    "data = \"\"\"\n",
    "contraception and sexual health service for young people. additional information: the council is using the e-business portal known as the chest. applicants will need to register their details at the following link www.the-chest.org.uk. applicants will need to electronically submit their completed tender documents via the online portal by 11 a.m. on 30th october 2023.\n",
    "\"\"\"\n",
    "\n",
    "get_categories(data)"
   ]
  },
  {
   "cell_type": "code",
   "execution_count": null,
   "id": "85f0cc04-a39e-41e3-9a8b-ba8a83e2fd13",
   "metadata": {
    "tags": []
   },
   "outputs": [],
   "source": [
    "import json\n",
    "\n",
    "with open(\"output.json\") as f:\n",
    "    data = json.loads(f.read())\n",
    "    \n",
    "for row in data[\"candidates\"]:\n",
    "    for candidates in row:\n",
    "        if len(candidates) > 0:\n",
    "            candidate = candidates[0]\n",
    "            temp = candidate[\"name\"] + \" \" +candidate[\"descritpion\"]\n",
    "            temp=temp.encode('utf-8')\n",
    "            categories = get_categories(temp)\n",
    "            candidate[\"iptc_categories\"] = categories[\"iptc_categories\"]\n",
    "            candidate[\"geo_categories\"] = categories[\"geo_categories\"]"
   ]
  },
  {
   "cell_type": "code",
   "execution_count": 16,
   "id": "9ed16936-1a2a-4857-b882-4c98d9df1532",
   "metadata": {
    "tags": []
   },
   "outputs": [
    {
     "data": {
      "text/plain": [
       "'Christopher Nolan British–American filmmaker (born 1970)'"
      ]
     },
     "execution_count": 16,
     "metadata": {},
     "output_type": "execute_result"
    }
   ],
   "source": [
    "temp"
   ]
  },
  {
   "cell_type": "code",
   "execution_count": 29,
   "id": "1bad6fb3-2be9-4a03-9128-33866d7ffffe",
   "metadata": {
    "tags": []
   },
   "outputs": [
    {
     "data": {
      "text/plain": [
       "{'id': 'Q434841',\n",
       " 'name': '20th Century Fox',\n",
       " 'descritpion': 'American film studio; subsidiary of Walt Disney Studios',\n",
       " 'types': [{'id': 'Q375336', 'name': 'film studio'},\n",
       "  {'id': 'Q1762059', 'name': 'film production company'},\n",
       "  {'id': 'Q10689397', 'name': 'television production company'}],\n",
       " 'features': {'ntoken': 3,\n",
       "  'popularity': 84,\n",
       "  'pos_score': 0.01,\n",
       "  'es_score': 32.83,\n",
       "  'es_diff_score': 0.103066,\n",
       "  'ed_score': 1.0,\n",
       "  'jaccard_score': 1.0,\n",
       "  'jaccardNgram_score': 1.0,\n",
       "  'cosine_similarity': 1.0,\n",
       "  'p_subj_ne': 0,\n",
       "  'p_subj_lit': 0.929,\n",
       "  'p_obj_ne': 1.0,\n",
       "  'desc': 0,\n",
       "  'descNgram': 0,\n",
       "  'cpa': 0.04,\n",
       "  'cpaMax': 0.07,\n",
       "  'cta': 0.36,\n",
       "  'ctaMax': 0.8,\n",
       "  'cea': 0.997,\n",
       "  'diff': 0.0},\n",
       " 'matches': {'0': [],\n",
       "  '1': [],\n",
       "  '2': [],\n",
       "  '3': [{'p': 'P1128', 'o': '+2300', 's': 0.876},\n",
       "   {'p': 'P8687', 'o': '+4441100', 's': 0.001},\n",
       "   {'p': 'P8687', 'o': '+4202335', 's': 0.001},\n",
       "   {'p': 'P8687', 'o': '+199000', 's': 0.01},\n",
       "   {'p': 'P8687', 'o': '+203000', 's': 0.01},\n",
       "   {'p': 'P1128', 'o': '+2300', 's': 0.047},\n",
       "   {'p': 'P8687', 'o': '+199000', 's': 0.001},\n",
       "   {'p': 'P8687', 'o': '+203000', 's': 0.001},\n",
       "   {'p': 'P8687', 'o': '+4441100', 's': 0.006},\n",
       "   {'p': 'P8687', 'o': '+4202335', 's': 0.005},\n",
       "   {'p': 'P8687', 'o': '+4508574', 's': 0.006},\n",
       "   {'p': 'P8687', 'o': '+4698976', 's': 0.006}],\n",
       "  '4': [],\n",
       "  '5': []},\n",
       " 'predicates': {'0': {},\n",
       "  '1': {},\n",
       "  '2': {},\n",
       "  '3': {'P1128': 0.876, 'P8687': 0.01},\n",
       "  '4': {},\n",
       "  '5': {}},\n",
       " 'score': 0.998,\n",
       " 'iptc_categories': [],\n",
       " 'geo_categories': []}"
      ]
     },
     "execution_count": 29,
     "metadata": {},
     "output_type": "execute_result"
    }
   ],
   "source": [
    "candidate"
   ]
  },
  {
   "cell_type": "code",
   "execution_count": 28,
   "id": "2280fb14-3bd2-49c5-8739-e155ad7dd7e4",
   "metadata": {
    "tags": []
   },
   "outputs": [
    {
     "data": {
      "text/plain": [
       "{'id': 'Q232774',\n",
       " 'name': 'Transformers: Dark of the Moon',\n",
       " 'descritpion': '2011 film directed by Michael Bay',\n",
       " 'types': [{'id': 'Q229390', 'name': '3D film'},\n",
       "  {'id': 'Q11424', 'name': 'film'}],\n",
       " 'features': {'ntoken': 5,\n",
       "  'popularity': 57,\n",
       "  'pos_score': 0.87,\n",
       "  'es_score': 18.31,\n",
       "  'es_diff_score': 0.000744,\n",
       "  'ed_score': 1.0,\n",
       "  'jaccard_score': 1.0,\n",
       "  'jaccardNgram_score': 1.0,\n",
       "  'cosine_similarity': 1.0,\n",
       "  'p_subj_ne': 2.0,\n",
       "  'p_subj_lit': 2.058,\n",
       "  'p_obj_ne': 0,\n",
       "  'desc': 0,\n",
       "  'descNgram': 0,\n",
       "  'cpa': 0.56,\n",
       "  'cpaMax': 0.9,\n",
       "  'cta': 0.54,\n",
       "  'ctaMax': 0.72,\n",
       "  'cea': 0.996,\n",
       "  'diff': 0.0},\n",
       " 'matches': {'0': [],\n",
       "  '1': [{'p': 'P57', 'o': 'Q59259', 's': 1.0},\n",
       "   {'p': 'P162', 'o': 'Q59259', 's': 1.0}],\n",
       "  '2': [],\n",
       "  '3': [{'p': 'P272', 'o': 'Q159846', 's': 1.0},\n",
       "   {'p': 'P750', 'o': 'Q159846', 's': 1.0},\n",
       "   {'p': 'P2047', 'o': '+154', 's': 0.077},\n",
       "   {'p': 'P8687', 'o': '+40666', 's': 0.05},\n",
       "   {'p': 'P8687', 'o': '+46626', 's': 0.043},\n",
       "   {'p': 'P8687', 'o': '+41176', 's': 0.049},\n",
       "   {'p': 'P8687', 'o': '+44640', 's': 0.045},\n",
       "   {'p': 'P2047', 'o': '+154', 's': 0.981},\n",
       "   {'p': 'P8687', 'o': '+40666', 's': 0.004},\n",
       "   {'p': 'P8687', 'o': '+46626', 's': 0.003},\n",
       "   {'p': 'P8687', 'o': '+41176', 's': 0.004},\n",
       "   {'p': 'P8687', 'o': '+44640', 's': 0.004},\n",
       "   {'p': 'P2142', 'o': '+1123794079', 's': 1.0},\n",
       "   {'p': 'P2142', 'o': '+352390543', 's': 0.314}],\n",
       "  '4': [],\n",
       "  '5': []},\n",
       " 'predicates': {'0': {},\n",
       "  '1': {'P57': 1.0, 'P162': 1.0},\n",
       "  '2': {},\n",
       "  '3': {'P272': 1.0, 'P750': 1.0, 'P2047': 0.981, 'P8687': 0.05, 'P2142': 1.0},\n",
       "  '4': {},\n",
       "  '5': {}},\n",
       " 'score': 0.065,\n",
       " 'iptc_categories': [],\n",
       " 'geo_categories': []}"
      ]
     },
     "execution_count": 28,
     "metadata": {},
     "output_type": "execute_result"
    }
   ],
   "source": [
    "data[\"candidates\"][10][0][0]"
   ]
  },
  {
   "cell_type": "code",
   "execution_count": null,
   "id": "b5a04138-5fd1-417e-ac61-5dafed8c9ae1",
   "metadata": {},
   "outputs": [],
   "source": [
    "import sys\n",
    "import orjson\n",
    "import requests\n",
    "import urllib3\n",
    "import os\n",
    "import aiohttp\n",
    "import ssl\n",
    "import asyncio\n",
    "import time\n",
    "import traceback \n",
    "\n",
    "urllib3.disable_warnings(urllib3.exceptions.InsecureRequestWarning)\n",
    "\n",
    "headers = {\n",
    "    \"Content-Type\": \"text/plain\",\n",
    "}\n",
    "\n",
    "class Classifier:\n",
    "    def __init__(self, endpoint, data, columns_to_classify):\n",
    "        self._endpoint = endpoint\n",
    "        self._data = data\n",
    "        self._columns_to_classify = columns_to_classify\n",
    "\n",
    "    async def classify_description(self):\n",
    "        tasks = []\n",
    "        for id_row, row in enumerate(self._data[\"candidates\"]):\n",
    "            for columnn_to_classify in self._columns_to_classify:\n",
    "                target = columnn_to_classify[\"target\"]\n",
    "                columns = columnn_to_classify[\"columns\"]\n",
    "                id_col = self._data[\"header\"].index(target)\n",
    "                candidates = row[id_col]\n",
    "                if len(candidates) == 0:\n",
    "                    continue\n",
    "                candidate = candidates[0]        \n",
    "                key = \" \".join([candidate[\"id\"]]+columns)\n",
    "                categories = cache.get(key, None)\n",
    "                     \n",
    "                if categories is None:\n",
    "                    if columns == [\"name\", \"description\"]:  \n",
    "                        text = candidate[\"name\"] + \" \" + candidate[\"description\"]\n",
    "                    else:\n",
    "                        indexes = [self._data[\"header\"].index(col) for col in columns]\n",
    "                        text = \" \".join([self._data[\"rows\"][id_row][\"data\"][index] for index in indexes])\n",
    "                    text = text.encode('utf-8')\n",
    "                    tasks.append((text, candidate, columns))\n",
    "                else:\n",
    "                    candidate[\" \".join(columns)] = categories \n",
    "                    \n",
    "        # Check if tasks list is empty, and skip running requests if it is\n",
    "        if not tasks:\n",
    "            return []\n",
    "\n",
    "        responses = await self.run_all_requests(tasks)\n",
    "        return responses\n",
    "\n",
    "    async def send_request(self, session, candidate, columns, data):\n",
    "        try:\n",
    "            async with session.post(self._endpoint, headers=headers, data=data, ssl=False) as response:\n",
    "                response_json = await response.json()\n",
    "                cache[\" \".join([candidate[\"id\"]]+columns)] = response_json[\"iptc_categories\"]\n",
    "                candidate[\" \".join(columns)] = response_json[\"iptc_categories\"]\n",
    "                return\n",
    "        except Exception as e:\n",
    "            print(f\"Request failed: {e}\")\n",
    "            return None\n",
    "\n",
    "    async def run_all_requests(self, tasks_data):\n",
    "        async with aiohttp.ClientSession() as session:\n",
    "            tasks = [self.send_request(session, candidate, columns, text) for text, candidate, columns in tasks_data]\n",
    "            responses = await asyncio.gather(*tasks, return_exceptions=True)\n",
    "            return responses\n",
    "\n",
    "\n",
    "async def main():    \n",
    "    print(\"Start classifier\")\n",
    "\n",
    "    filename_path = sys.argv[1]\n",
    "    # Reading\n",
    "    with open(filename_path, \"rb\") as f:\n",
    "        input_data = orjson.loads(f.read())\n",
    "\n",
    "    with(open(\"./cache.json\", \"rb\")) as f:\n",
    "        cache = orjson.loads(f.read())\n",
    "\n",
    "    CLASSIFIER_ENDPOINT = os.environ[\"CLASSIFIER_ENDPOINT\"]\n",
    "\n",
    "    try:\n",
    "        classifier = Classifier(CLASSIFIER_ENDPOINT, input_data, input_data[\"services\"][\"classifier\"])\n",
    "        responses = await classifier.classify_description()\n",
    "    except Exception as e:\n",
    "        print(\"Error with classifier, details:\", str(e), traceback.print_exc())\n",
    "\n",
    "    print(\"End classifier\")\n",
    "\n",
    "    # Writing\n",
    "    with open(\"/tmp/output.json\", \"wb\") as f:\n",
    "        f.write(orjson.dumps(input_data, option=orjson.OPT_INDENT_2))\n",
    "\n",
    "    print(\"End writing\")\n",
    "\n",
    "asyncio.run(main())\n"
   ]
  }
 ],
 "metadata": {
  "kernelspec": {
   "display_name": "Python 3 (ipykernel)",
   "language": "python",
   "name": "python3"
  },
  "language_info": {
   "codemirror_mode": {
    "name": "ipython",
    "version": 3
   },
   "file_extension": ".py",
   "mimetype": "text/x-python",
   "name": "python",
   "nbconvert_exporter": "python",
   "pygments_lexer": "ipython3",
   "version": "3.11.5"
  }
 },
 "nbformat": 4,
 "nbformat_minor": 5
}
